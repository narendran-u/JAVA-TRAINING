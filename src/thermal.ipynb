{
 "cells": [
  {
   "cell_type": "code",
   "execution_count": null,
   "metadata": {},
   "outputs": [],
   "source": [
    "import numpy as np\n",
    "import cv2\n",
    "gray16_image = cv2.imread(\"lighter_gray16_image.tiff \", cv2.IMREAD_ANYDEPTH)\n",
    "x = 90\n",
    "y = 40\n",
    " \n",
    "pixel_flame_gray16 = gray16_image [y, x]\n",
    "pixel_flame_gray16 = (pixel_flame_gray16 / 100) - 273.15\n",
    " \n",
    "# calculate temperature value in ° F\n",
    "pixel_flame_gray16 = (pixel_flame_gray16 / 100) * 9 / 5 - 459.67\n",
    "# convert the gray16 image into a gray8 to show the result\n",
    "gray8_image = np.zeros((120,160), dtype=np.uint8)\n",
    "gray8_image = cv2.normalize(gray16_image, gray8_image, 0, 255, cv2.NORM_MINMAX)\n",
    "gray8_image = np.uint8(gray8_image)\n",
    " \n",
    "\n",
    "cv2.circle(gray8_image, (x, y), 2, (0, 0, 0), -1)\n",
    "cv2.circle(gray16_image, (x, y), 2, (0, 0, 0), -1)\n",
    "\n",
    "cv2.putText(gray8_image,\"{0:.1f} Fahrenheit\".format(pixel_flame_gray16),(x - 80, y - 15), cv2.FONT_HERSHEY_PLAIN, 1,(255,0,0),2)\n",
    "cv2.putText(gray16_image,\"{0:.1f} Fahrenheit\".format(pixel_flame_gray16),(x - 80, y - 15), cv2.FONT_HERSHEY_PLAIN, 1,(255,0,0),2)\n",
    "\n",
    "cv2.imshow(\"gray8-fahrenheit\", gray8_image)\n",
    "cv2.imshow(\"gray16-fahrenheit\", gray16_image)\n",
    "cv2.waitKey(0)"
   ]
  }
 ],
 "metadata": {
  "language_info": {
   "name": "python"
  }
 },
 "nbformat": 4,
 "nbformat_minor": 2
}
